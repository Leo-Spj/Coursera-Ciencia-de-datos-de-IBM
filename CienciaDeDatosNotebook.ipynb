{
 "cells": [
  {
   "cell_type": "markdown",
   "metadata": {},
   "source": [
    "# Data Science Tools Notebook"
   ]
  },
  {
   "cell_type": "markdown",
   "metadata": {},
   "source": [
    "## Introduction\n",
    "\n",
    "This notebook is designed to introduce the main tools, languages, and libraries used in data science. Through this notebook, we will explore the fundamental resources that every data scientist should know to perform effective analysis and build predictive models."
   ]
  },
  {
   "cell_type": "markdown",
   "metadata": {},
   "source": [
    "## Programming Languages for Data Science\n",
    "\n",
    "The most popular languages used in data science include:\n",
    "\n",
    "1. **Python** - Versatile with a rich ecosystem of libraries for data science\n",
    "2. **R** - Specialized in statistical analysis and data visualization\n",
    "3. **SQL** - Essential for database queries and manipulation\n",
    "4. **Scala** - Popular for big data processing, especially with Apache Spark\n",
    "5. **Julia** - Known for high performance in numerical computing"
   ]
  },
  {
   "cell_type": "markdown",
   "metadata": {},
   "source": [
    "## Data Science Libraries\n",
    "\n",
    "### Python\n",
    "- **Pandas** - Data manipulation and analysis\n",
    "- **NumPy** - Numerical computing and multidimensional arrays\n",
    "- **Matplotlib** - Data visualization\n",
    "- **Scikit-learn** - Machine learning\n",
    "- **TensorFlow** - Deep learning\n",
    "- **PyTorch** - Deep learning\n",
    "\n",
    "### R\n",
    "- **ggplot2** - Data visualization\n",
    "- **dplyr** - Data manipulation\n",
    "- **tidyr** - Data cleaning\n",
    "- **caret** - Machine learning"
   ]
  },
  {
   "cell_type": "markdown",
   "metadata": {},
   "source": [
    "## Data Science Tools\n",
    "\n",
    "| Category | Tool | Description |\n",
    "|-----------|-------------|-------------|\n",
    "| IDE | Jupyter Notebook | Interactive environment for code, text, visualizations |\n",
    "| IDE | RStudio | Specialized IDE for R |\n",
    "| IDE | Visual Studio Code | Code editor with extensions for data science |\n",
    "| Visualization | Tableau | Interactive visualization platform |\n",
    "| Visualization | Power BI | Microsoft's tool for BI and visualizations |\n",
    "| Big Data | Apache Spark | Large-scale data processing engine |\n",
    "| Big Data | Hadoop | Framework for distributed processing |\n",
    "| Databases | MongoDB | Document-oriented NoSQL database |\n",
    "| Databases | PostgreSQL | Relational database management system |"
   ]
  },
  {
   "cell_type": "markdown",
   "metadata": {},
   "source": [
    "## Arithmetic Expressions\n",
    "\n",
    "Arithmetic expressions are fundamental in programming and data science. Below we will see some examples of basic operations in Python.\n",
    "\n",
    "Some arithmetic expressions:\n",
    "\n",
    "- Addition: `2 + 3`\n",
    "- Subtraction: `5 - 2`\n",
    "- Multiplication: `3 * 4`\n",
    "- Division: `10 / 2`"
   ]
  },
  {
   "cell_type": "code",
   "execution_count": null,
   "metadata": {},
   "outputs": [],
   "source": [
    "# Examples of arithmetic operations\n",
    "a = 5\n",
    "b = 2\n",
    "\n",
    "# Addition\n",
    "addition = a + b\n",
    "print(\"Addition:\", addition)\n",
    "\n",
    "# Multiplication\n",
    "multiplication = a * b\n",
    "print(\"Multiplication:\", multiplication)\n",
    "\n",
    "# Power\n",
    "power = a ** 2\n",
    "print(\"Power:\", power)\n",
    "\n",
    "# Division\n",
    "division = a / 2\n",
    "print(\"Division with decimals:\", division)"
   ]
  },
  {
   "cell_type": "code",
   "execution_count": null,
   "metadata": {},
   "outputs": [],
   "source": [
    "# Function to convert minutes to hours\n",
    "def minutes_to_hours(minutes):\n",
    "    hours = minutes / 60\n",
    "    return round(hours, 2)\n",
    "\n",
    "# Conversion examples\n",
    "time = 160\n",
    "\n",
    "print(f\"{time} minutes are {minutes_to_hours(time)} hours\")"
   ]
  },
  {
   "cell_type": "code",
   "execution_count": null,
   "metadata": {},
   "outputs": [],
   "source": [
    "# List of objectives using HTML for better formatting\n",
    "from IPython.display import HTML\n",
    "\n",
    "objectives = \"\"\"\n",
    "<ul>\n",
    "<li>Learn the fundamentals of data science</li>\n",
    "<li>Master Python and its main libraries for data analysis</li>\n",
    "<li>Develop skills in data cleaning and preparation</li>\n",
    "<li>Implement basic machine learning models</li>\n",
    "<li>Create effective visualizations to communicate results</li>\n",
    "</ul>\n",
    "\"\"\"\n",
    "\n",
    "HTML(objectives)"
   ]
  },
  {
   "cell_type": "markdown",
   "metadata": {},
   "source": [
    "## Author\n",
    "\n",
    "Leonardo Espejo\n",
    "\n",
    "Student of the \"Tools for Data Science\" course by IBM on Coursera"
   ]
  }
 ],
 "metadata": {
  "kernelspec": {
   "display_name": "venv",
   "language": "python",
   "name": "python3"
  },
  "language_info": {
   "codemirror_mode": {
    "name": "ipython",
    "version": 3
   },
   "file_extension": ".py",
   "mimetype": "text/x-python",
   "name": "python",
   "nbconvert_exporter": "python",
   "pygments_lexer": "ipython3",
   "version": "3.12.6"
  }
 },
 "nbformat": 4,
 "nbformat_minor": 2
}
